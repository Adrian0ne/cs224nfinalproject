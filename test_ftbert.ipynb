{
 "cells": [
  {
   "cell_type": "markdown",
   "metadata": {},
   "source": [
    "# Testing"
   ]
  },
  {
   "cell_type": "code",
   "execution_count": 2,
   "metadata": {},
   "outputs": [],
   "source": [
    "from predict import *\n",
    "from evaluate import *"
   ]
  },
  {
   "cell_type": "markdown",
   "metadata": {},
   "source": [
    "## Fine-Tuned BERT"
   ]
  },
  {
   "cell_type": "code",
   "execution_count": 3,
   "metadata": {},
   "outputs": [
    {
     "name": "stderr",
     "output_type": "stream",
     "text": [
      "100%|██████████| 20/20 [00:04<00:00,  4.75it/s]"
     ]
    },
    {
     "name": "stdout",
     "output_type": "stream",
     "text": [
      "Loading test features\n"
     ]
    },
    {
     "name": "stderr",
     "output_type": "stream",
     "text": [
      "\n",
      "convert squad examples to features: 100%|██████████| 5915/5915 [01:25<00:00, 68.98it/s] \n",
      "add example index and unique id: 100%|██████████| 5915/5915 [00:00<00:00, 560396.38it/s]\n",
      "Evaluating:   0%|          | 0/1495 [00:00<?, ?it/s]"
     ]
    },
    {
     "name": "stdout",
     "output_type": "stream",
     "text": [
      "Loading probes\n",
      "Extracting test IDs\n",
      "Predicting on test set\n"
     ]
    },
    {
     "name": "stderr",
     "output_type": "stream",
     "text": [
      "Evaluating: 100%|██████████| 1495/1495 [1:40:55<00:00,  4.05s/it]\n"
     ]
    },
    {
     "name": "stdout",
     "output_type": "stream",
     "text": [
      "Saving predictions\n"
     ]
    }
   ],
   "source": [
    "probe_dir = \"09bert_final/fine_tuned_epoch_3/fine_tuned_probes/\"\n",
    "pred_dir = \"09bert_final/fine_tuned_epoch_3/test_preds/\"\n",
    "thresholds = [-0.5, -0.5, 3.0, 3.0, 5.0, 6.0, 3.5, 4.0, 4.5, 4.5, 3.0, 6.0]\n",
    "\n",
    "eval_probe(probe_dir = probe_dir,\n",
    "           layers = 12,\n",
    "           thresholds = thresholds,\n",
    "           pred_dir = pred_dir,\n",
    "           hidden_dim = 768,\n",
    "           max_seq_length = 384,\n",
    "           model_prefix = \"twmkn9/bert-base-uncased-squad2\") "
   ]
  },
  {
   "cell_type": "code",
   "execution_count": 4,
   "metadata": {},
   "outputs": [
    {
     "name": "stdout",
     "output_type": "stream",
     "text": [
      "    layer  exact   f1  exact_no_ans  f1_no_ans  exact_has_ans  f1_has_ans\n",
      "0       1    0.0  0.0           0.0        0.0            0.0         0.0\n",
      "1       2    0.0  0.0           0.0        0.0            0.0         0.0\n",
      "2       3    0.0  0.0           0.0        0.0            0.0         0.0\n",
      "3       4    0.0  0.0           0.0        0.0            0.0         0.0\n",
      "4       5    0.0  0.0           0.0        0.0            0.0         0.0\n",
      "5       6    0.0  0.0           0.0        0.0            0.0         0.0\n",
      "6       7    0.0  0.0           0.0        0.0            0.0         0.0\n",
      "7       8    0.0  0.0           0.0        0.0            0.0         0.0\n",
      "8       9    0.0  0.0           0.0        0.0            0.0         0.0\n",
      "9      10    0.0  0.0           0.0        0.0            0.0         0.0\n",
      "10     11    0.0  0.0           0.0        0.0            0.0         0.0\n",
      "11     12    0.0  0.0           0.0        0.0            0.0         0.0\n"
     ]
    }
   ],
   "source": [
    "save_metrics(pred_dir, \n",
    "             dev_path = \"squad-master/data/test-v2.0.json\")"
   ]
  }
 ],
 "metadata": {
  "kernelspec": {
   "display_name": "transformers",
   "language": "python",
   "name": "transformers"
  },
  "language_info": {
   "codemirror_mode": {
    "name": "ipython",
    "version": 3
   },
   "file_extension": ".py",
   "mimetype": "text/x-python",
   "name": "python",
   "nbconvert_exporter": "python",
   "pygments_lexer": "ipython3",
   "version": "3.7.6"
  }
 },
 "nbformat": 4,
 "nbformat_minor": 4
}
