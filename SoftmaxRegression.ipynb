{
 "cells": [
  {
   "cell_type": "code",
   "execution_count": 1,
   "metadata": {},
   "outputs": [],
   "source": [
    "import torch\n",
    "import torch.nn as nn\n",
    "import torch.nn.functional as F\n",
    "import os\n",
    "SEED = 1"
   ]
  },
  {
   "cell_type": "markdown",
   "metadata": {},
   "source": [
    "## First, let's create a fake data tensor"
   ]
  },
  {
   "cell_type": "code",
   "execution_count": 2,
   "metadata": {},
   "outputs": [],
   "source": [
    "batch_size = 3\n",
    "seq_len = 4\n",
    "hidden_size = 5"
   ]
  },
  {
   "cell_type": "code",
   "execution_count": 3,
   "metadata": {},
   "outputs": [
    {
     "name": "stdout",
     "output_type": "stream",
     "text": [
      "torch.Size([3, 4, 5]) torch.Size([3])\n"
     ]
    }
   ],
   "source": [
    "torch.manual_seed(SEED)\n",
    "\n",
    "inputs = torch.randn((batch_size, seq_len, hidden_size)) # matrix of size (batch_size, seq_len, hidden_size)\n",
    "idx_targets = torch.tensor([0, 1, 3]) # matrix of size (batch_size) where entry is class idx\n",
    "print(inputs.shape, idx_targets.shape)"
   ]
  },
  {
   "cell_type": "markdown",
   "metadata": {},
   "source": [
    "## Then, our index softmax model"
   ]
  },
  {
   "cell_type": "code",
   "execution_count": 4,
   "metadata": {},
   "outputs": [],
   "source": [
    "from SoftmaxRegression import IdxSoftmaxRegression"
   ]
  },
  {
   "cell_type": "markdown",
   "metadata": {},
   "source": [
    "## And train it"
   ]
  },
  {
   "cell_type": "code",
   "execution_count": 5,
   "metadata": {},
   "outputs": [],
   "source": [
    "lr = 1e-3\n",
    "device = \"cpu\" # else \"cuda:0\"\n",
    "max_epoch = 2000\n",
    "print_every = 100\n",
    "max_grad_norm = 1.0"
   ]
  },
  {
   "cell_type": "code",
   "execution_count": 6,
   "metadata": {},
   "outputs": [
    {
     "name": "stdout",
     "output_type": "stream",
     "text": [
      "epoch 100 loss 0.9858344793319702\n",
      "epoch 200 loss 0.7027537226676941\n",
      "epoch 300 loss 0.5020290613174438\n",
      "epoch 400 loss 0.3692546784877777\n",
      "epoch 500 loss 0.2781364917755127\n",
      "epoch 600 loss 0.21403783559799194\n",
      "epoch 700 loss 0.16786591708660126\n",
      "epoch 800 loss 0.13383346796035767\n",
      "epoch 900 loss 0.10820576548576355\n",
      "epoch 1000 loss 0.08852928876876831\n",
      "epoch 1100 loss 0.07316025346517563\n",
      "epoch 1200 loss 0.060973044484853745\n",
      "epoch 1300 loss 0.05118098109960556\n",
      "epoch 1400 loss 0.04322313144803047\n",
      "epoch 1500 loss 0.03669150546193123\n",
      "epoch 1600 loss 0.03128419816493988\n",
      "epoch 1700 loss 0.026774315163493156\n",
      "epoch 1800 loss 0.022988714277744293\n",
      "epoch 1900 loss 0.019793258979916573\n",
      "epoch 2000 loss 0.017082812264561653\n"
     ]
    }
   ],
   "source": [
    "torch.manual_seed(0)\n",
    "\n",
    "model = IdxSoftmaxRegression(seq_len, hidden_size)\n",
    "model = model.to(device)\n",
    "\n",
    "optimizer = torch.optim.Adam(model.parameters(), lr=float(lr))\n",
    "\n",
    "epoch = 0\n",
    "while epoch < max_epoch:\n",
    "    epoch += 1\n",
    "    loss = 0\n",
    "    \n",
    "    model.train()\n",
    "    for i in range(batch_size):\n",
    "        example = inputs[i, :, :].unsqueeze(0)\n",
    "        target = idx_targets[i].unsqueeze(0)\n",
    "        \n",
    "        loss = model.train_forward(example, target, device)\n",
    "        loss.backward()\n",
    "        torch.nn.utils.clip_grad_norm_(model.parameters(), max_grad_norm)\n",
    "        optimizer.step()\n",
    "        optimizer.zero_grad()\n",
    "        \n",
    "    if epoch%print_every==0:\n",
    "        print(\"epoch {} loss {}\".format(epoch, loss))"
   ]
  },
  {
   "cell_type": "code",
   "execution_count": 7,
   "metadata": {},
   "outputs": [
    {
     "data": {
      "text/plain": [
       "tensor([[9.6258e-01, 3.6998e-02, 8.5927e-06, 4.0928e-04],\n",
       "        [2.9356e-05, 9.8474e-01, 8.4081e-03, 6.8241e-03],\n",
       "        [4.6515e-04, 9.9967e-03, 6.4669e-03, 9.8307e-01]],\n",
       "       grad_fn=<SoftmaxBackward>)"
      ]
     },
     "execution_count": 7,
     "metadata": {},
     "output_type": "execute_result"
    }
   ],
   "source": [
    "(model.predict_proba(inputs))"
   ]
  },
  {
   "cell_type": "code",
   "execution_count": 8,
   "metadata": {},
   "outputs": [
    {
     "data": {
      "text/plain": [
       "tensor([0, 1, 3])"
      ]
     },
     "execution_count": 8,
     "metadata": {},
     "output_type": "execute_result"
    }
   ],
   "source": [
    "(model.predict(inputs))"
   ]
  },
  {
   "cell_type": "markdown",
   "metadata": {},
   "source": [
    "### Then let's do a softmax for whether or not there is an answer at all"
   ]
  },
  {
   "cell_type": "code",
   "execution_count": 9,
   "metadata": {},
   "outputs": [],
   "source": [
    "from SoftmaxRegression import ImpossibleSoftmaxRegression"
   ]
  },
  {
   "cell_type": "code",
   "execution_count": 10,
   "metadata": {},
   "outputs": [
    {
     "name": "stdout",
     "output_type": "stream",
     "text": [
      "torch.Size([3, 4, 5]) torch.Size([3])\n"
     ]
    }
   ],
   "source": [
    "torch.manual_seed(SEED)\n",
    "\n",
    "inputs = torch.randn((batch_size, seq_len, hidden_size)) # matrix of size (batch_size, seq_len, hidden_size)\n",
    "is_impossible_targets = torch.tensor([0, 1, 0], dtype=torch.float) # matrix of size (batch_size) where entry is binary whether there is an answer\n",
    "print(inputs.shape, is_impossible_targets.shape)"
   ]
  },
  {
   "cell_type": "code",
   "execution_count": 11,
   "metadata": {},
   "outputs": [],
   "source": [
    "device = \"cpu\" # else \"cuda:0\"\n",
    "lr = 1e-3\n",
    "max_grad_norm = 1.0\n",
    "max_epoch = 2000\n",
    "print_every = 100"
   ]
  },
  {
   "cell_type": "code",
   "execution_count": 12,
   "metadata": {},
   "outputs": [
    {
     "name": "stdout",
     "output_type": "stream",
     "text": [
      "epoch 100 loss 0.15036962926387787\n",
      "epoch 200 loss 0.0723341554403305\n",
      "epoch 300 loss 0.041916608810424805\n",
      "epoch 400 loss 0.026582689955830574\n",
      "epoch 500 loss 0.018196450546383858\n",
      "epoch 600 loss 0.01313718780875206\n",
      "epoch 700 loss 0.009850339964032173\n",
      "epoch 800 loss 0.007593781221657991\n",
      "epoch 900 loss 0.0059781791642308235\n",
      "epoch 1000 loss 0.004783250391483307\n",
      "epoch 1100 loss 0.0038764411583542824\n",
      "epoch 1200 loss 0.0031737331300973892\n",
      "epoch 1300 loss 0.0026200732681900263\n",
      "epoch 1400 loss 0.0021777006331831217\n",
      "epoch 1500 loss 0.0018201335333287716\n",
      "epoch 1600 loss 0.0015284172259271145\n",
      "epoch 1700 loss 0.0012884092284366488\n",
      "epoch 1800 loss 0.0010896299500018358\n",
      "epoch 1900 loss 0.0009240007493644953\n",
      "epoch 2000 loss 0.0007854207651689649\n"
     ]
    }
   ],
   "source": [
    "torch.manual_seed(0)\n",
    "\n",
    "model = ImpossibleSoftmaxRegression(seq_len, hidden_size)\n",
    "model = model.to(device)\n",
    "\n",
    "optimizer = torch.optim.Adam(model.parameters(), lr=float(lr))\n",
    "\n",
    "epoch = 0\n",
    "while epoch < max_epoch:\n",
    "    epoch += 1\n",
    "    loss = 0\n",
    "    \n",
    "    model.train()\n",
    "    for i in range(batch_size):\n",
    "        example = inputs[i, :, :].unsqueeze(0)\n",
    "        target = is_impossible_targets[i].unsqueeze(0)\n",
    "        \n",
    "        loss = model.train_forward(example, target, device)\n",
    "        loss.backward()\n",
    "        torch.nn.utils.clip_grad_norm_(model.parameters(), max_grad_norm)\n",
    "        optimizer.step()\n",
    "        optimizer.zero_grad()\n",
    "        \n",
    "    if epoch%print_every==0:\n",
    "        print(\"epoch {} loss {}\".format(epoch, loss))"
   ]
  },
  {
   "cell_type": "code",
   "execution_count": 13,
   "metadata": {},
   "outputs": [
    {
     "data": {
      "text/plain": [
       "tensor([5.3539e-04, 9.9932e-01, 7.8465e-04], grad_fn=<SigmoidBackward>)"
      ]
     },
     "execution_count": 13,
     "metadata": {},
     "output_type": "execute_result"
    }
   ],
   "source": [
    "(model.predict_proba(inputs))"
   ]
  },
  {
   "cell_type": "code",
   "execution_count": 14,
   "metadata": {},
   "outputs": [
    {
     "data": {
      "text/plain": [
       "tensor([0., 1., 0.], grad_fn=<RoundBackward>)"
      ]
     },
     "execution_count": 14,
     "metadata": {},
     "output_type": "execute_result"
    }
   ],
   "source": [
    "(model.predict(inputs))"
   ]
  },
  {
   "cell_type": "markdown",
   "metadata": {},
   "source": [
    "### Let's also look at using our multi softmax class"
   ]
  },
  {
   "cell_type": "code",
   "execution_count": 15,
   "metadata": {},
   "outputs": [],
   "source": [
    "torch.manual_seed(SEED)\n",
    "\n",
    "inputs = torch.randn((batch_size, seq_len, hidden_size)) # matrix of size (batch_size, seq_len, hidden_size)\n",
    "start_idx_targets = torch.tensor([0, 1, 2]) # matrix of size (batch_size) where entry is class idx\n",
    "stop_idx_targets = torch.tensor([1, 1, 3]) # matrix of size (batch_size) where entry is class idx\n",
    "is_impossible_targets = torch.tensor([0, 1, 0], dtype=torch.float) # matrix of size (batch_size) where entry is binary whether answering is impossible"
   ]
  },
  {
   "cell_type": "code",
   "execution_count": 16,
   "metadata": {},
   "outputs": [],
   "source": [
    "from SoftmaxRegression import MultiSoftmaxRegression"
   ]
  },
  {
   "cell_type": "code",
   "execution_count": 17,
   "metadata": {},
   "outputs": [],
   "source": [
    "model = MultiSoftmaxRegression(seq_len, hidden_size)"
   ]
  },
  {
   "cell_type": "code",
   "execution_count": 18,
   "metadata": {},
   "outputs": [
    {
     "name": "stdout",
     "output_type": "stream",
     "text": [
      "epoch 100, loss start 1.57, stop 1.30, impossible 0.81\n",
      "epoch 200, loss start 1.56, stop 1.29, impossible 0.79\n",
      "epoch 300, loss start 1.55, stop 1.28, impossible 0.78\n",
      "epoch 400, loss start 1.55, stop 1.27, impossible 0.76\n",
      "epoch 500, loss start 1.54, stop 1.27, impossible 0.75\n",
      "epoch 600, loss start 1.53, stop 1.26, impossible 0.74\n",
      "epoch 700, loss start 1.52, stop 1.25, impossible 0.72\n",
      "epoch 800, loss start 1.51, stop 1.24, impossible 0.71\n",
      "epoch 900, loss start 1.51, stop 1.24, impossible 0.70\n",
      "epoch 1000, loss start 1.50, stop 1.23, impossible 0.68\n",
      "epoch 1100, loss start 1.49, stop 1.22, impossible 0.67\n",
      "epoch 1200, loss start 1.48, stop 1.21, impossible 0.66\n",
      "epoch 1300, loss start 1.47, stop 1.21, impossible 0.64\n",
      "epoch 1400, loss start 1.47, stop 1.20, impossible 0.63\n",
      "epoch 1500, loss start 1.46, stop 1.19, impossible 0.62\n",
      "epoch 1600, loss start 1.45, stop 1.19, impossible 0.61\n",
      "epoch 1700, loss start 1.44, stop 1.18, impossible 0.59\n",
      "epoch 1800, loss start 1.43, stop 1.17, impossible 0.58\n",
      "epoch 1900, loss start 1.43, stop 1.17, impossible 0.57\n",
      "epoch 2000, loss start 1.42, stop 1.16, impossible 0.56\n"
     ]
    }
   ],
   "source": [
    "max_epoch = 2000\n",
    "print_every = 100\n",
    "epoch = 0\n",
    "device = \"cpu\"\n",
    "while epoch < max_epoch:\n",
    "    epoch += 1\n",
    "    start_idx_loss = model.train_step(inputs, start_idx_targets, 'start', device)\n",
    "    stop_idx_loss = model.train_step(inputs, stop_idx_targets, 'stop', device)\n",
    "    is_impossible_loss = model.train_step(inputs, is_impossible_targets, 'impossible', device)\n",
    "    \n",
    "    if epoch%print_every==0:\n",
    "        print(\"epoch {}, loss start {:.2f}, stop {:.2f}, impossible {:.2f}\".format(epoch, start_idx_loss, stop_idx_loss, is_impossible_loss))\n",
    "    "
   ]
  },
  {
   "cell_type": "code",
   "execution_count": 19,
   "metadata": {},
   "outputs": [
    {
     "data": {
      "text/plain": [
       "array([[-1., -1.],\n",
       "       [-1., -1.],\n",
       "       [ 1.,  3.]], dtype=float32)"
      ]
     },
     "execution_count": 19,
     "metadata": {},
     "output_type": "execute_result"
    }
   ],
   "source": [
    "(model.predict(inputs, device))"
   ]
  },
  {
   "cell_type": "markdown",
   "metadata": {},
   "source": [
    "### Let's experiment with saving and loading our models"
   ]
  },
  {
   "cell_type": "markdown",
   "metadata": {},
   "source": [
    "First, make a directory 'softmax model' in the current directory"
   ]
  },
  {
   "cell_type": "code",
   "execution_count": 20,
   "metadata": {},
   "outputs": [],
   "source": [
    "save_dir = \"./sm_model\"\n",
    "if not os.path.exists(save_dir):\n",
    "    os.mkdir(save_dir)"
   ]
  },
  {
   "cell_type": "code",
   "execution_count": 23,
   "metadata": {},
   "outputs": [],
   "source": [
    "model.save(save_dir, 0)"
   ]
  },
  {
   "cell_type": "code",
   "execution_count": 24,
   "metadata": {},
   "outputs": [],
   "source": [
    "model = MultiSoftmaxRegression(seq_len, hidden_size)"
   ]
  },
  {
   "cell_type": "code",
   "execution_count": 25,
   "metadata": {},
   "outputs": [],
   "source": [
    "model.load(save_dir, 0)"
   ]
  },
  {
   "cell_type": "code",
   "execution_count": 26,
   "metadata": {},
   "outputs": [
    {
     "data": {
      "text/plain": [
       "array([[-1., -1.],\n",
       "       [-1., -1.],\n",
       "       [ 1.,  3.]], dtype=float32)"
      ]
     },
     "execution_count": 26,
     "metadata": {},
     "output_type": "execute_result"
    }
   ],
   "source": [
    "(model.predict(inputs, device))"
   ]
  }
 ],
 "metadata": {
  "@webio": {
   "lastCommId": null,
   "lastKernelId": null
  },
  "kernelspec": {
   "display_name": "Python 3",
   "language": "python",
   "name": "python3"
  },
  "language_info": {
   "codemirror_mode": {
    "name": "ipython",
    "version": 3
   },
   "file_extension": ".py",
   "mimetype": "text/x-python",
   "name": "python",
   "nbconvert_exporter": "python",
   "pygments_lexer": "ipython3",
   "version": "3.7.6"
  }
 },
 "nbformat": 4,
 "nbformat_minor": 4
}
