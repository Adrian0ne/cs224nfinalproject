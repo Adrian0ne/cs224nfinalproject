{
 "cells": [
  {
   "cell_type": "markdown",
   "metadata": {},
   "source": [
    "# Testing"
   ]
  },
  {
   "cell_type": "code",
   "execution_count": 1,
   "metadata": {},
   "outputs": [],
   "source": [
    "from predict import *\n",
    "from evaluate import *"
   ]
  },
  {
   "cell_type": "markdown",
   "metadata": {},
   "source": [
    "## Fine-Tuned ALBERT"
   ]
  },
  {
   "cell_type": "code",
   "execution_count": 2,
   "metadata": {},
   "outputs": [
    {
     "name": "stderr",
     "output_type": "stream",
     "text": [
      "100%|██████████| 20/20 [00:01<00:00, 10.88it/s]"
     ]
    },
    {
     "name": "stdout",
     "output_type": "stream",
     "text": [
      "Loading test features\n"
     ]
    },
    {
     "name": "stderr",
     "output_type": "stream",
     "text": [
      "\n",
      "convert squad examples to features: 100%|██████████| 5915/5915 [00:27<00:00, 211.30it/s]\n",
      "add example index and unique id: 100%|██████████| 5915/5915 [00:00<00:00, 965117.41it/s]\n",
      "Evaluating:   0%|          | 0/1499 [00:00<?, ?it/s]"
     ]
    },
    {
     "name": "stdout",
     "output_type": "stream",
     "text": [
      "Loading probes\n",
      "Extracting test IDs\n",
      "Predicting on dev set\n"
     ]
    },
    {
     "name": "stderr",
     "output_type": "stream",
     "text": [
      "Evaluating: 100%|██████████| 1499/1499 [1:29:26<00:00,  3.58s/it]\n"
     ]
    },
    {
     "name": "stdout",
     "output_type": "stream",
     "text": [
      "Saving predictions\n"
     ]
    }
   ],
   "source": [
    "probe_dir = \"08albert_final/fine_tuned_epoch_3/fine_tuned_probes/\"\n",
    "pred_dir = \"08albert_final/fine_tuned_epoch_3/test_preds/\"\n",
    "thresholds = [-0.5, 3.0, 2.0, 2.5, 2.0, 2.5, 1.5, 2.0, 1.5, 1.5, 2.0, 3.0]\n",
    "\n",
    "eval_probe(probe_dir = probe_dir,\n",
    "           layers = 12,\n",
    "           thresholds = thresholds,\n",
    "           pred_dir = pred_dir,\n",
    "           hidden_dim = 768,\n",
    "           max_seq_length = 384,\n",
    "           model_prefix = \"twmkn9/albert-base-v2-squad2\")           "
   ]
  },
  {
   "cell_type": "code",
   "execution_count": 3,
   "metadata": {},
   "outputs": [
    {
     "ename": "NameError",
     "evalue": "name 'save_metrics' is not defined",
     "output_type": "error",
     "traceback": [
      "\u001b[0;31m---------------------------------------------------------------------------\u001b[0m",
      "\u001b[0;31mNameError\u001b[0m                                 Traceback (most recent call last)",
      "\u001b[0;32m<ipython-input-3-50913917d8b9>\u001b[0m in \u001b[0;36m<module>\u001b[0;34m\u001b[0m\n\u001b[0;32m----> 1\u001b[0;31m save_metrics(pred_dir, \n\u001b[0m\u001b[1;32m      2\u001b[0m              dev_path = \"squad-master/data/test-v2.0.json\")\n",
      "\u001b[0;31mNameError\u001b[0m: name 'save_metrics' is not defined"
     ]
    }
   ],
   "source": [
    "save_metrics(pred_dir, \n",
    "             dev_path = \"squad-master/data/test-v2.0.json\")"
   ]
  }
 ],
 "metadata": {
  "kernelspec": {
   "display_name": "transformers",
   "language": "python",
   "name": "transformers"
  },
  "language_info": {
   "codemirror_mode": {
    "name": "ipython",
    "version": 3
   },
   "file_extension": ".py",
   "mimetype": "text/x-python",
   "name": "python",
   "nbconvert_exporter": "python",
   "pygments_lexer": "ipython3",
   "version": "3.7.6"
  }
 },
 "nbformat": 4,
 "nbformat_minor": 4
}
