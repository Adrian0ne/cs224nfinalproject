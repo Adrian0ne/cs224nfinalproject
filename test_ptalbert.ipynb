{
 "cells": [
  {
   "cell_type": "markdown",
   "metadata": {},
   "source": [
    "# Testing"
   ]
  },
  {
   "cell_type": "code",
   "execution_count": 1,
   "metadata": {},
   "outputs": [],
   "source": [
    "from predict import *\n",
    "from evaluate import *"
   ]
  },
  {
   "cell_type": "markdown",
   "metadata": {},
   "source": [
    "## Pretrained ALBERT"
   ]
  },
  {
   "cell_type": "code",
   "execution_count": 2,
   "metadata": {},
   "outputs": [
    {
     "name": "stderr",
     "output_type": "stream",
     "text": [
      "100%|██████████| 20/20 [00:02<00:00,  7.28it/s]"
     ]
    },
    {
     "name": "stdout",
     "output_type": "stream",
     "text": [
      "Loading test features\n"
     ]
    },
    {
     "name": "stderr",
     "output_type": "stream",
     "text": [
      "\n",
      "convert squad examples to features: 100%|██████████| 5915/5915 [00:34<00:00, 170.88it/s]\n",
      "add example index and unique id: 100%|██████████| 5915/5915 [00:00<00:00, 567433.06it/s]\n",
      "Evaluating:   0%|          | 0/1499 [00:00<?, ?it/s]"
     ]
    },
    {
     "name": "stdout",
     "output_type": "stream",
     "text": [
      "Loading probes\n",
      "Extracting test IDs\n",
      "Predicting on test set\n"
     ]
    },
    {
     "name": "stderr",
     "output_type": "stream",
     "text": [
      "Evaluating: 100%|██████████| 1499/1499 [1:49:41<00:00,  4.39s/it]\n"
     ]
    },
    {
     "name": "stdout",
     "output_type": "stream",
     "text": [
      "Saving predictions\n"
     ]
    }
   ],
   "source": [
    "probe_dir = \"08albert_final/pretrained_epoch_3/pretrained_probes/\"\n",
    "pred_dir = \"08albert_final/pretrained_epoch_3/test_preds/\"\n",
    "thresholds = [0.0, 0.0, 1.0, 0.5, 1.5, 0.5, 1.5, 1.5, 0.5, 0.5, 0.5, 2.0]\n",
    "\n",
    "eval_probe(probe_dir = probe_dir,\n",
    "           layers = 12,\n",
    "           thresholds = thresholds,\n",
    "           pred_dir = pred_dir,\n",
    "           hidden_dim = 768,\n",
    "           max_seq_length = 384,\n",
    "           model_prefix = \"albert-base-v2\")   "
   ]
  }
 ],
 "metadata": {
  "kernelspec": {
   "display_name": "transformers",
   "language": "python",
   "name": "transformers"
  },
  "language_info": {
   "codemirror_mode": {
    "name": "ipython",
    "version": 3
   },
   "file_extension": ".py",
   "mimetype": "text/x-python",
   "name": "python",
   "nbconvert_exporter": "python",
   "pygments_lexer": "ipython3",
   "version": "3.7.6"
  }
 },
 "nbformat": 4,
 "nbformat_minor": 4
}
